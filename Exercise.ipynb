{
 "cells": [
  {
   "cell_type": "code",
   "execution_count": null,
   "metadata": {},
   "outputs": [],
   "source": [
    "#Exercise¶\n",
    "#Construct MLP with 50 hidden units and compute the test accuracy\n",
    "#Construct MLP 50-50-1 with ReLU and compute the test accuracy"
   ]
  },
  {
   "cell_type": "code",
   "execution_count": 29,
   "metadata": {},
   "outputs": [
    {
     "name": "stdout",
     "output_type": "stream",
     "text": [
      "(768, 9)\n",
      "(576, 8) (576,)\n"
     ]
    }
   ],
   "source": [
    "import os\n",
    "import numpy as np\n",
    "np.random.seed(1234)  # for reproducibility  \n",
    "\n",
    "from keras.models import Sequential\n",
    "from keras.layers import Dense\n",
    "\n",
    "# Load CSV\n",
    "import numpy\n",
    "filename = 'pima-indians-diabetes.data'\n",
    "raw_data = open(filename, 'rt')\n",
    "data = numpy.loadtxt(raw_data, delimiter=\",\")\n",
    "print(data.shape)\n",
    "\n",
    "# all row except label\n",
    "X = data[:,0:8]\n",
    "# only label\n",
    "y = data[:,8:9].reshape(data.shape[0])\n",
    "\n",
    "# normalize data z-score . (X - mean) / standard deviation \n",
    "mean = [ 3.8, 120.9, 69.1, 20.5, 79.8, 32.0, 0.5, 33.2 ]\n",
    "sd   = [ 3.4, 32.0, 19.4, 16.0, 115.2, 7.9, 0.3, 11.8 ]\n",
    "X = (X-mean)/sd\n",
    "\n",
    "from sklearn.model_selection import train_test_split\n",
    "X_train, X_test, y_train, y_test = train_test_split(X, y, test_size=0.25, random_state=0)\n",
    "\n",
    "print(X_train.shape, y_train.shape)"
   ]
  },
  {
   "cell_type": "code",
   "execution_count": 30,
   "metadata": {},
   "outputs": [
    {
     "name": "stdout",
     "output_type": "stream",
     "text": [
      "_________________________________________________________________\n",
      "Layer (type)                 Output Shape              Param #   \n",
      "=================================================================\n",
      "dense_28 (Dense)             (None, 50)                450       \n",
      "_________________________________________________________________\n",
      "dense_29 (Dense)             (None, 1)                 51        \n",
      "=================================================================\n",
      "Total params: 501\n",
      "Trainable params: 501\n",
      "Non-trainable params: 0\n",
      "_________________________________________________________________\n",
      "None\n"
     ]
    }
   ],
   "source": [
    "#multi layer perceptron\n",
    "mlp = Sequential()\n",
    "mlp.add( Dense(50, input_dim=8, activation='relu') )\n",
    "mlp.add( Dense(1, activation='relu') )\n",
    "\n",
    "print(mlp.summary()) "
   ]
  },
  {
   "cell_type": "code",
   "execution_count": 31,
   "metadata": {},
   "outputs": [],
   "source": [
    "#binary classification -> cross entrophy \n",
    "#optimizer = tools = adam \n",
    "mlp.compile(loss='binary_crossentropy', optimizer='adam', metrics=['accuracy'])"
   ]
  },
  {
   "cell_type": "code",
   "execution_count": 32,
   "metadata": {},
   "outputs": [
    {
     "name": "stdout",
     "output_type": "stream",
     "text": [
      "Epoch 1/10\n",
      "576/576 [==============================] - 0s 858us/step - loss: 1.4425 - acc: 0.5556\n",
      "Epoch 2/10\n",
      "576/576 [==============================] - 0s 55us/step - loss: 1.1680 - acc: 0.6042\n",
      "Epoch 3/10\n",
      "576/576 [==============================] - 0s 61us/step - loss: 1.0079 - acc: 0.6319\n",
      "Epoch 4/10\n",
      "576/576 [==============================] - 0s 51us/step - loss: 0.9083 - acc: 0.6545\n",
      "Epoch 5/10\n",
      "576/576 [==============================] - 0s 52us/step - loss: 0.8115 - acc: 0.6771\n",
      "Epoch 6/10\n",
      "576/576 [==============================] - 0s 65us/step - loss: 0.7242 - acc: 0.6927\n",
      "Epoch 7/10\n",
      "576/576 [==============================] - 0s 53us/step - loss: 0.7057 - acc: 0.6892\n",
      "Epoch 8/10\n",
      "576/576 [==============================] - 0s 54us/step - loss: 0.7034 - acc: 0.6910\n",
      "Epoch 9/10\n",
      "576/576 [==============================] - 0s 51us/step - loss: 0.6918 - acc: 0.6997\n",
      "Epoch 10/10\n",
      "576/576 [==============================] - 0s 49us/step - loss: 0.6787 - acc: 0.7101\n",
      "Test accuracy: 0.765625\n"
     ]
    }
   ],
   "source": [
    "#Train input X/ output Y, batch_size -> sum 64 before adjust , epochs = iteration \n",
    "mlp.fit(X_train, y_train, batch_size=64, epochs=10, verbose=1)\n",
    "sc = mlp.evaluate(X_test, y_test, verbose=0)\n",
    "\n",
    "print('Test accuracy:', sc[1])\n",
    "\n",
    "#to increase accuracy adjust : \n",
    "#Hidden node , lerning rate , epoch , batch_size"
   ]
  },
  {
   "cell_type": "code",
   "execution_count": 33,
   "metadata": {},
   "outputs": [
    {
     "name": "stdout",
     "output_type": "stream",
     "text": [
      "_________________________________________________________________\n",
      "Layer (type)                 Output Shape              Param #   \n",
      "=================================================================\n",
      "dense_30 (Dense)             (None, 50)                450       \n",
      "_________________________________________________________________\n",
      "dense_31 (Dense)             (None, 50)                2550      \n",
      "_________________________________________________________________\n",
      "dense_32 (Dense)             (None, 1)                 51        \n",
      "=================================================================\n",
      "Total params: 3,051\n",
      "Trainable params: 3,051\n",
      "Non-trainable params: 0\n",
      "_________________________________________________________________\n",
      "None\n"
     ]
    },
    {
     "ename": "RuntimeError",
     "evalue": "The model needs to be compiled before being used.",
     "output_type": "error",
     "traceback": [
      "\u001b[0;31m---------------------------------------------------------------------------\u001b[0m",
      "\u001b[0;31mRuntimeError\u001b[0m                              Traceback (most recent call last)",
      "\u001b[0;32m<ipython-input-33-0026dddf172a>\u001b[0m in \u001b[0;36m<module>\u001b[0;34m()\u001b[0m\n\u001b[1;32m     10\u001b[0m \u001b[0;34m\u001b[0m\u001b[0m\n\u001b[1;32m     11\u001b[0m \u001b[0mmlp\u001b[0m\u001b[0;34m.\u001b[0m\u001b[0madd\u001b[0m\u001b[0;34m(\u001b[0m \u001b[0mDense\u001b[0m\u001b[0;34m(\u001b[0m\u001b[0;36m50\u001b[0m\u001b[0;34m,\u001b[0m \u001b[0minput_dim\u001b[0m\u001b[0;34m=\u001b[0m\u001b[0;36m8\u001b[0m\u001b[0;34m,\u001b[0m \u001b[0mactivation\u001b[0m\u001b[0;34m=\u001b[0m\u001b[0;34m'relu'\u001b[0m\u001b[0;34m)\u001b[0m \u001b[0;34m)\u001b[0m\u001b[0;34m\u001b[0m\u001b[0m\n\u001b[0;32m---> 12\u001b[0;31m \u001b[0mmlp\u001b[0m\u001b[0;34m.\u001b[0m\u001b[0mfit\u001b[0m\u001b[0;34m(\u001b[0m\u001b[0mX_train\u001b[0m\u001b[0;34m,\u001b[0m \u001b[0my_train\u001b[0m\u001b[0;34m,\u001b[0m \u001b[0mbatch_size\u001b[0m\u001b[0;34m=\u001b[0m\u001b[0;36m64\u001b[0m\u001b[0;34m,\u001b[0m \u001b[0mepochs\u001b[0m\u001b[0;34m=\u001b[0m\u001b[0;36m10\u001b[0m\u001b[0;34m,\u001b[0m \u001b[0mverbose\u001b[0m\u001b[0;34m=\u001b[0m\u001b[0;36m1\u001b[0m\u001b[0;34m)\u001b[0m\u001b[0;34m\u001b[0m\u001b[0m\n\u001b[0m\u001b[1;32m     13\u001b[0m \u001b[0msc\u001b[0m \u001b[0;34m=\u001b[0m \u001b[0mmlp\u001b[0m\u001b[0;34m.\u001b[0m\u001b[0mevaluate\u001b[0m\u001b[0;34m(\u001b[0m\u001b[0mX_test\u001b[0m\u001b[0;34m,\u001b[0m \u001b[0my_test\u001b[0m\u001b[0;34m,\u001b[0m \u001b[0mverbose\u001b[0m\u001b[0;34m=\u001b[0m\u001b[0;36m0\u001b[0m\u001b[0;34m)\u001b[0m\u001b[0;34m\u001b[0m\u001b[0m\n\u001b[1;32m     14\u001b[0m \u001b[0;34m\u001b[0m\u001b[0m\n",
      "\u001b[0;32m~/miniconda3/lib/python3.6/site-packages/keras/models.py\u001b[0m in \u001b[0;36mfit\u001b[0;34m(self, x, y, batch_size, epochs, verbose, callbacks, validation_split, validation_data, shuffle, class_weight, sample_weight, initial_epoch, steps_per_epoch, validation_steps, **kwargs)\u001b[0m\n\u001b[1;32m    986\u001b[0m \u001b[0;34m\u001b[0m\u001b[0m\n\u001b[1;32m    987\u001b[0m         \u001b[0;32mif\u001b[0m \u001b[0;32mnot\u001b[0m \u001b[0mself\u001b[0m\u001b[0;34m.\u001b[0m\u001b[0mbuilt\u001b[0m\u001b[0;34m:\u001b[0m\u001b[0;34m\u001b[0m\u001b[0m\n\u001b[0;32m--> 988\u001b[0;31m             raise RuntimeError('The model needs to be compiled '\n\u001b[0m\u001b[1;32m    989\u001b[0m                                'before being used.')\n\u001b[1;32m    990\u001b[0m         return self.model.fit(x, y,\n",
      "\u001b[0;31mRuntimeError\u001b[0m: The model needs to be compiled before being used."
     ]
    }
   ],
   "source": [
    "#multi layer perceptron\n",
    "mlp = Sequential()\n",
    "mlp.add( Dense(50, input_dim=8, activation='relu') )\n",
    "mlp.add( Dense(50, input_dim=8, activation='relu') )\n",
    "mlp.add( Dense(1, activation='relu') )\n",
    "\n",
    "print(mlp.summary()) \n",
    "\n",
    "mlp.compile(loss='binary_crossentropy', optimizer='adam', metrics=['accuracy'])\n",
    "\n",
    "mlp.add( Dense(50, input_dim=8, activation='relu') )\n",
    "mlp.fit(X_train, y_train, batch_size=64, epochs=10, verbose=1)\n",
    "sc = mlp.evaluate(X_test, y_test, verbose=0)\n",
    "\n",
    "print('Test accuracy:', sc[1])"
   ]
  }
 ],
 "metadata": {
  "kernelspec": {
   "display_name": "Python 3",
   "language": "python",
   "name": "python3"
  },
  "language_info": {
   "codemirror_mode": {
    "name": "ipython",
    "version": 3
   },
   "file_extension": ".py",
   "mimetype": "text/x-python",
   "name": "python",
   "nbconvert_exporter": "python",
   "pygments_lexer": "ipython3",
   "version": "3.6.5"
  }
 },
 "nbformat": 4,
 "nbformat_minor": 2
}
